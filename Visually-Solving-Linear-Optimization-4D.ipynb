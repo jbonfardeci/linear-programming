{
 "cells": [
  {
   "cell_type": "code",
   "execution_count": 99,
   "id": "785ff77a-c49c-439b-b5a4-ae11fd709a13",
   "metadata": {},
   "outputs": [
    {
     "data": {
      "text/html": [
       "<div>\n",
       "<style scoped>\n",
       "    .dataframe tbody tr th:only-of-type {\n",
       "        vertical-align: middle;\n",
       "    }\n",
       "\n",
       "    .dataframe tbody tr th {\n",
       "        vertical-align: top;\n",
       "    }\n",
       "\n",
       "    .dataframe thead th {\n",
       "        text-align: right;\n",
       "    }\n",
       "</style>\n",
       "<table border=\"1\" class=\"dataframe\">\n",
       "  <thead>\n",
       "    <tr style=\"text-align: right;\">\n",
       "      <th></th>\n",
       "      <th>printer_id</th>\n",
       "      <th>printer_name</th>\n",
       "      <th>available_hours</th>\n",
       "    </tr>\n",
       "  </thead>\n",
       "  <tbody>\n",
       "    <tr>\n",
       "      <th>0</th>\n",
       "      <td>1</td>\n",
       "      <td>Printer1</td>\n",
       "      <td>8</td>\n",
       "    </tr>\n",
       "    <tr>\n",
       "      <th>1</th>\n",
       "      <td>2</td>\n",
       "      <td>Printer2</td>\n",
       "      <td>8</td>\n",
       "    </tr>\n",
       "    <tr>\n",
       "      <th>2</th>\n",
       "      <td>3</td>\n",
       "      <td>Printer3</td>\n",
       "      <td>12</td>\n",
       "    </tr>\n",
       "    <tr>\n",
       "      <th>3</th>\n",
       "      <td>4</td>\n",
       "      <td>Printer4</td>\n",
       "      <td>12</td>\n",
       "    </tr>\n",
       "  </tbody>\n",
       "</table>\n",
       "</div>"
      ],
      "text/plain": [
       "   printer_id printer_name  available_hours\n",
       "0           1     Printer1                8\n",
       "1           2     Printer2                8\n",
       "2           3     Printer3               12\n",
       "3           4     Printer4               12"
      ]
     },
     "metadata": {},
     "output_type": "display_data"
    }
   ],
   "source": [
    "import pandas as pd\n",
    "\n",
    "printer_table = pd.DataFrame(data=[\n",
    "    [1, \"Printer1\", 8],\n",
    "    [2, \"Printer2\", 8],\n",
    "    [3, \"Printer3\", 12],\n",
    "    [4, \"Printer4\", 12],\n",
    "], columns=[\"printer_id\", \"printer_name\", \"available_hours\"])\n",
    "display(printer_table)"
   ]
  },
  {
   "cell_type": "code",
   "execution_count": 104,
   "id": "e3ce9514-91dc-4d15-b77f-000b1d485c2d",
   "metadata": {},
   "outputs": [
    {
     "data": {
      "text/html": [
       "<div>\n",
       "<style scoped>\n",
       "    .dataframe tbody tr th:only-of-type {\n",
       "        vertical-align: middle;\n",
       "    }\n",
       "\n",
       "    .dataframe tbody tr th {\n",
       "        vertical-align: top;\n",
       "    }\n",
       "\n",
       "    .dataframe thead th {\n",
       "        text-align: right;\n",
       "    }\n",
       "</style>\n",
       "<table border=\"1\" class=\"dataframe\">\n",
       "  <thead>\n",
       "    <tr style=\"text-align: right;\">\n",
       "      <th></th>\n",
       "      <th>product_id</th>\n",
       "      <th>product_name</th>\n",
       "    </tr>\n",
       "  </thead>\n",
       "  <tbody>\n",
       "    <tr>\n",
       "      <th>0</th>\n",
       "      <td>1</td>\n",
       "      <td>Product1</td>\n",
       "    </tr>\n",
       "    <tr>\n",
       "      <th>1</th>\n",
       "      <td>2</td>\n",
       "      <td>Product2</td>\n",
       "    </tr>\n",
       "  </tbody>\n",
       "</table>\n",
       "</div>"
      ],
      "text/plain": [
       "   product_id product_name\n",
       "0           1     Product1\n",
       "1           2     Product2"
      ]
     },
     "metadata": {},
     "output_type": "display_data"
    }
   ],
   "source": [
    "product_table = pd.DataFrame(data=[\n",
    "    [1, \"Product1\"],\n",
    "    [2, \"Product2\"],\n",
    "], columns=[\"product_id\", \"product_name\"])\n",
    "display(product_table)"
   ]
  },
  {
   "cell_type": "code",
   "execution_count": 105,
   "id": "a8857cff-3dac-4b20-b891-ebbc95bfcfef",
   "metadata": {},
   "outputs": [
    {
     "data": {
      "text/html": [
       "<div>\n",
       "<style scoped>\n",
       "    .dataframe tbody tr th:only-of-type {\n",
       "        vertical-align: middle;\n",
       "    }\n",
       "\n",
       "    .dataframe tbody tr th {\n",
       "        vertical-align: top;\n",
       "    }\n",
       "\n",
       "    .dataframe thead th {\n",
       "        text-align: right;\n",
       "    }\n",
       "</style>\n",
       "<table border=\"1\" class=\"dataframe\">\n",
       "  <thead>\n",
       "    <tr style=\"text-align: right;\">\n",
       "      <th></th>\n",
       "      <th>printer_id</th>\n",
       "      <th>product_id</th>\n",
       "      <th>hours_req</th>\n",
       "      <th>unit_profit</th>\n",
       "    </tr>\n",
       "  </thead>\n",
       "  <tbody>\n",
       "    <tr>\n",
       "      <th>0</th>\n",
       "      <td>1</td>\n",
       "      <td>1</td>\n",
       "      <td>1</td>\n",
       "      <td>112</td>\n",
       "    </tr>\n",
       "    <tr>\n",
       "      <th>1</th>\n",
       "      <td>1</td>\n",
       "      <td>2</td>\n",
       "      <td>3</td>\n",
       "      <td>225</td>\n",
       "    </tr>\n",
       "    <tr>\n",
       "      <th>2</th>\n",
       "      <td>2</td>\n",
       "      <td>1</td>\n",
       "      <td>2</td>\n",
       "      <td>171</td>\n",
       "    </tr>\n",
       "    <tr>\n",
       "      <th>3</th>\n",
       "      <td>2</td>\n",
       "      <td>2</td>\n",
       "      <td>1</td>\n",
       "      <td>379</td>\n",
       "    </tr>\n",
       "    <tr>\n",
       "      <th>4</th>\n",
       "      <td>3</td>\n",
       "      <td>1</td>\n",
       "      <td>1</td>\n",
       "      <td>316</td>\n",
       "    </tr>\n",
       "    <tr>\n",
       "      <th>5</th>\n",
       "      <td>3</td>\n",
       "      <td>2</td>\n",
       "      <td>1</td>\n",
       "      <td>115</td>\n",
       "    </tr>\n",
       "    <tr>\n",
       "      <th>6</th>\n",
       "      <td>4</td>\n",
       "      <td>1</td>\n",
       "      <td>1</td>\n",
       "      <td>211</td>\n",
       "    </tr>\n",
       "    <tr>\n",
       "      <th>7</th>\n",
       "      <td>4</td>\n",
       "      <td>2</td>\n",
       "      <td>2</td>\n",
       "      <td>358</td>\n",
       "    </tr>\n",
       "  </tbody>\n",
       "</table>\n",
       "</div>"
      ],
      "text/plain": [
       "   printer_id  product_id  hours_req  unit_profit\n",
       "0           1           1          1          112\n",
       "1           1           2          3          225\n",
       "2           2           1          2          171\n",
       "3           2           2          1          379\n",
       "4           3           1          1          316\n",
       "5           3           2          1          115\n",
       "6           4           1          1          211\n",
       "7           4           2          2          358"
      ]
     },
     "metadata": {},
     "output_type": "display_data"
    }
   ],
   "source": [
    "import random as rn\n",
    "rn.seed(42)\n",
    "printer_product_data = []\n",
    "\n",
    "for print_id, *_ in printer_table.to_numpy():\n",
    "    for prod_id, *_ in product_table.to_numpy():\n",
    "        printer_product_data.append({\n",
    "            \"printer_id\": print_id,\n",
    "            \"product_id\": prod_id,\n",
    "            \"hours_req\": rn.randint(1,4),\n",
    "            \"unit_profit\": rn.randint(100,400)\n",
    "        })\n",
    "    # for\n",
    "# for\n",
    "\n",
    "printer_product_table = pd.DataFrame(data=printer_product_data)\n",
    "display(printer_product_table)"
   ]
  },
  {
   "cell_type": "code",
   "execution_count": 106,
   "id": "6c8f8d68-0ef2-4c9d-a2b4-dcfa710b49da",
   "metadata": {},
   "outputs": [
    {
     "data": {
      "text/latex": [
       "$\\displaystyle 337.0 x_{1} + 550.0 x_{2} + 431.0 x_{3} + 569.0 x_{4}$"
      ],
      "text/plain": [
       "337.0*x1 + 550.0*x2 + 431.0*x3 + 569.0*x4"
      ]
     },
     "metadata": {},
     "output_type": "display_data"
    }
   ],
   "source": [
    "# Determine the Objective Function and Decision Variables\n",
    "# Max Z: p1*x1 + p2*x2 + p3*x3, ... + pNxN\n",
    "decision_expr = None\n",
    "constraints = []\n",
    "for print_id, print_name, avail_hrs in printer_table.to_numpy():\n",
    "    x = Symbol(f'x{print_id}')\n",
    "    constraint = None\n",
    "    for prod_id, prod_name in product_table.to_numpy():\n",
    "        p = Symbol(prod_name)\n",
    "        df = printer_product_table\n",
    "        row = df.where((df['printer_id'] == print_id) & (df['product_id'] == prod_id)).dropna()\n",
    "        profit = row['unit_profit'].values[0]\n",
    "        hrs = row['hours_req'].values[0]\n",
    "        expr = profit*x\n",
    "        if decision_expr is None:\n",
    "            decision_expr = expr\n",
    "        else:\n",
    "            decision_expr = decision_expr + expr\n",
    "        if constraint is None:\n",
    "            constraint = hrs*p\n",
    "        else:\n",
    "            constraint = constraint + hrs*p\n",
    "    # for\n",
    "    constraint = constraint - hrs\n",
    "    constraints.append(constraint)\n",
    "# for\n",
    "display(decision_expr)"
   ]
  },
  {
   "cell_type": "code",
   "execution_count": 107,
   "id": "97e6e7d7-529f-4792-a4c9-6e47074e6584",
   "metadata": {},
   "outputs": [
    {
     "data": {
      "text/latex": [
       "$\\displaystyle 1.0 Product_{1} + 3.0 Product_{2} - 3.0$"
      ],
      "text/plain": [
       "1.0*Product1 + 3.0*Product2 - 3.0"
      ]
     },
     "metadata": {},
     "output_type": "display_data"
    },
    {
     "data": {
      "text/latex": [
       "$\\displaystyle 2.0 Product_{1} + 1.0 Product_{2} - 1.0$"
      ],
      "text/plain": [
       "2.0*Product1 + 1.0*Product2 - 1.0"
      ]
     },
     "metadata": {},
     "output_type": "display_data"
    },
    {
     "data": {
      "text/latex": [
       "$\\displaystyle 1.0 Product_{1} + 1.0 Product_{2} - 1.0$"
      ],
      "text/plain": [
       "1.0*Product1 + 1.0*Product2 - 1.0"
      ]
     },
     "metadata": {},
     "output_type": "display_data"
    },
    {
     "data": {
      "text/latex": [
       "$\\displaystyle 1.0 Product_{1} + 2.0 Product_{2} - 2.0$"
      ],
      "text/plain": [
       "1.0*Product1 + 2.0*Product2 - 2.0"
      ]
     },
     "metadata": {},
     "output_type": "display_data"
    }
   ],
   "source": [
    "# Show Constraints\n",
    "for c in constraints:\n",
    "    display(c)"
   ]
  },
  {
   "cell_type": "code",
   "execution_count": 120,
   "id": "0e09479f-241a-4165-9fd3-43f48d116b8e",
   "metadata": {},
   "outputs": [
    {
     "name": "stdout",
     "output_type": "stream",
     "text": [
      "dict_items([(Product1, 0.0), (Product2, 1.00000000000000)])\n"
     ]
    }
   ],
   "source": [
    "# Solve for constraints.\n",
    "soln = solve(constraints, dict=True)[0]\n",
    "print(soln.items())"
   ]
  },
  {
   "cell_type": "markdown",
   "id": "f50a70f9-1527-48ec-8346-307d96892616",
   "metadata": {},
   "source": [
    "Lastly, there are contraints for non-zero products defined as:\n",
    "\n",
    "x<sub>1</sub> >= 0, x<sub>2</sub> >= 0"
   ]
  },
  {
   "cell_type": "markdown",
   "id": "c7a564ec-3f7e-40b3-8309-615f1aff07f8",
   "metadata": {},
   "source": [
    "## Plot the Solution"
   ]
  },
  {
   "cell_type": "code",
   "execution_count": 3,
   "id": "b5397acb-dfa2-443a-a655-d3012051839c",
   "metadata": {
    "ExecuteTime": {
     "end_time": "2024-01-23T03:15:46.209835715Z",
     "start_time": "2024-01-23T03:15:45.361980865Z"
    }
   },
   "outputs": [],
   "source": [
    "# Import libraries.\n",
    "import matplotlib.pyplot as plt\n",
    "import numpy as np\n",
    "from sympy import Symbol, solve"
   ]
  },
  {
   "cell_type": "code",
   "execution_count": 6,
   "id": "96d18e25-110d-4ecd-9f22-9ababce88d25",
   "metadata": {
    "ExecuteTime": {
     "end_time": "2024-01-23T03:18:17.777775465Z",
     "start_time": "2024-01-23T03:18:17.514302012Z"
    }
   },
   "outputs": [
    {
     "data": {
      "image/png": "[encoded data removed]",
      "text/plain": [
       "<Figure size 640x480 with 1 Axes>"
      ]
     },
     "metadata": {},
     "output_type": "display_data"
    }
   ],
   "source": [
    "def get_bound(x1, x2, limit):\n",
    "    x_1 = [limit/x1, 0.0]\n",
    "    x_2 = [0.0, limit/x2]\n",
    "    return x_1, x_2\n",
    "\n",
    "\n",
    "def plot_solution(b1_x1, b1_x2, max_hrs_x1, x1_profit, b2_x1, b2_x2, max_hrs_x2, x2_profit):\n",
    "    # Create variables x1 and x2, via SymPy.\n",
    "    s1 = Symbol('x1')\n",
    "    s2 = Symbol('x2')\n",
    "\n",
    "    # Get bounds (points) for constraints.\n",
    "    x1, y1 = get_bound(b1_x1, b1_x2, max_hrs_x1)\n",
    "    x2, y2 = get_bound(b2_x1, b2_x2, max_hrs_x2)\n",
    "\n",
    "    # Define constraint formulas.\n",
    "    constraint1 = b1_x1*s1 + b1_x2*s2 - max_hrs_x1\n",
    "    constraint2 = b2_x1*s1 + b2_x2*s2 - max_hrs_x2\n",
    "\n",
    "    # Solve for constraints.\n",
    "    soln = solve((constraint1, constraint2), dict=True)[0]\n",
    "    intersect_x = soln[s1]\n",
    "    intersect_y = soln[s2]\n",
    "\n",
    "    # Define objective function.\n",
    "    max_profit_formula = x1_profit*s1 + x2_profit*s2\n",
    "\n",
    "    # Final Solution - maximize profit.\n",
    "    max_profit = float(max_profit_formula.subs({'x1': intersect_x, 'x2': intersect_y}))\n",
    "\n",
    "    # Plot the first constraint.\n",
    "    plt.plot(x1, y1, linestyle=':', marker='o', color='darkgreen')\n",
    "    # Label with constraint formula.\n",
    "    plt.annotate(\n",
    "        constraint1,\n",
    "        (0, max_hrs_x1),\n",
    "        textcoords=\"offset points\",\n",
    "        xytext=(10, -5),\n",
    "        ha='left',\n",
    "        color='darkgreen'\n",
    "    )\n",
    "\n",
    "    # Plot the second constraint.\n",
    "    plt.plot(x2, y2, linestyle=':', marker='o', color='darkblue')\n",
    "    # Label with constraint formula.\n",
    "    plt.annotate(\n",
    "        constraint2,\n",
    "        (max_hrs_x2, 0),\n",
    "        textcoords=\"offset points\",\n",
    "        xytext=(-70, 10),\n",
    "        ha='left',\n",
    "        color='darkblue'\n",
    "    )\n",
    "\n",
    "    # Plot bounds for x1 >= 0 and x2 >= 0.\n",
    "    plt.plot(0,0, marker='o')\n",
    "    plt.plot([0, 0], [max_hrs_x1, 0], linestyle=':', color='grey')\n",
    "    plt.plot([max_hrs_x2, 0], [0, 0], linestyle=':', color='grey')\n",
    "\n",
    "    # Fill Feasible Region\n",
    "    plt.fill(\n",
    "        [0, 0, intersect_x, x1[0]],\n",
    "        [0, y2[1], intersect_y, 0],\n",
    "        color='lightgreen', alpha=0.5\n",
    "    )\n",
    "\n",
    "    # Plot point for maximum profit.\n",
    "    plt.plot(intersect_x, intersect_y, marker='o', color='red')\n",
    "    # Plot labels for maximum profit.\n",
    "    plt.annotate(\n",
    "        f\"Optimal: ({intersect_x}, {intersect_y})\\nMax Profit: ${max_profit:0.2f}\",\n",
    "        (intersect_x, intersect_y),\n",
    "        textcoords=\"offset points\",\n",
    "        xytext=(4,4),\n",
    "        ha='left')\n",
    "    plt.annotate(\n",
    "        \"Feasible\\nRegion\",\n",
    "        (intersect_x, intersect_y),\n",
    "        textcoords=\"offset points\",\n",
    "        xytext=(-5,-20), ha='right'\n",
    "    )\n",
    "    # Draw X and Y axis labels.\n",
    "    plt.xlabel(f\"${x2_profit}x2 (Hrs)\", color='darkblue')\n",
    "    plt.ylabel(f\"${x1_profit}x1 (Hrs)\", color='darkgreen')\n",
    "    # Render plot.\n",
    "    plt.show()\n",
    "\n",
    "# Test our plot.\n",
    "plot_solution(b1_x1, b1_x2, max_hrs_x1, x1_profit, b2_x1, b2_x2, max_hrs_x2, x2_profit)"
   ]
  },
  {
   "cell_type": "markdown",
   "id": "79eadfc7-2702-4177-94ac-bf812a3239dc",
   "metadata": {},
   "source": [
    "## Adding Interactive Controls for 'What-if' Scenarios?\n",
    "\n",
    "Now suppose the owner would like to easily update the model as time and profits change, and/or they purchase new printers that take less time. We can set up a dashboard of pywidgets to make the plot interactive to address \"what-if\" scenarios as variables change."
   ]
  },
  {
   "cell_type": "code",
   "execution_count": 5,
   "id": "eea9c47a-b272-43a2-ab9d-deff30580a74",
   "metadata": {
    "ExecuteTime": {
     "end_time": "2024-01-23T03:18:34.390347132Z",
     "start_time": "2024-01-23T03:18:34.092116818Z"
    }
   },
   "outputs": [
    {
     "data": {
      "application/vnd.jupyter.widget-view+json": {
       "model_id": "874c396970bf416bbe3283d33e6ad516",
       "version_major": 2,
       "version_minor": 0
      },
      "text/plain": [
       "interactive(children=(IntSlider(value=2, description='B1*x1', max=10, min=1), IntSlider(value=1, description='…"
      ]
     },
     "execution_count": 5,
     "metadata": {},
     "output_type": "execute_result"
    }
   ],
   "source": [
    "import ipywidgets as widgets\n",
    "\n",
    "b1_x1_slider = widgets.IntSlider(value=b1_x1, min=1, max=10, step=1, description='B1*x1')\n",
    "b1_x2_slider = widgets.IntSlider(value=b1_x2, min=1, max=10, step=1, description='B1*x2')\n",
    "max_hrs_x1_slider = widgets.IntSlider(value=max_hrs_x1, min=1, max=10, step=1, description='Printer 1 Hrs')\n",
    "x1_profit_slider = widgets.IntSlider(value=x1_profit, min=0, max=1000, setp=10, description='Printer 1 Profit')\n",
    "\n",
    "b2_x1_slider = widgets.IntSlider(value=b2_x1, min=1, max=10, step=1, description='B2*x1')\n",
    "b2_x2_slider = widgets.IntSlider(value=b2_x2, min=1, max=10, step=1, description='B2*x2')\n",
    "max_hrs_x2_slider = widgets.IntSlider(value=max_hrs_x2, min=1, max=10, step=1, description='Printer 2 Hrs')\n",
    "x2_profit_slider = widgets.IntSlider(value=x2_profit, min=0, max=1000, setp=10, description='Printer 2 Profit')\n",
    "\n",
    "def compute(b1_x1, b1_x2, max_hrs_x1, x1_profit, b2_x1, b2_x2, max_hrs_x2, x2_profit):\n",
    "    try:\n",
    "        plot_solution(b1_x1.value, b1_x2.value, max_hrs_x1.value, x1_profit.value, b2_x1.value, b2_x2.value, max_hrs_x2.value, x2_profit.value)\n",
    "    except:\n",
    "        pass\n",
    "\n",
    "widgets.interactive(\n",
    "    compute,\n",
    "    b1_x1=b1_x1_slider,\n",
    "    b1_x2=b1_x2_slider,\n",
    "    max_hrs_x1=max_hrs_x1_slider,\n",
    "    x1_profit=x1_profit_slider,\n",
    "    b2_x1=b2_x1_slider,\n",
    "    b2_x2=b2_x2_slider,\n",
    "    max_hrs_x2=max_hrs_x2_slider,\n",
    "    x2_profit=x2_profit_slider\n",
    ")"
   ]
  },
  {
   "cell_type": "code",
   "execution_count": null,
   "id": "b29b7547-970c-47cf-b11d-235d3b40dbf3",
   "metadata": {
    "ExecuteTime": {
     "end_time": "2024-01-23T03:15:46.926114436Z",
     "start_time": "2024-01-23T03:15:46.918554136Z"
    }
   },
   "outputs": [],
   "source": []
  }
 ],
 "metadata": {
  "kernelspec": {
   "display_name": "Python 3 (ipykernel)",
   "language": "python",
   "name": "python3"
  },
  "language_info": {
   "codemirror_mode": {
    "name": "ipython",
    "version": 3
   },
   "file_extension": ".py",
   "mimetype": "text/x-python",
   "name": "python",
   "nbconvert_exporter": "python",
   "pygments_lexer": "ipython3",
   "version": "3.10.10"
  }
 },
 "nbformat": 4,
 "nbformat_minor": 5
}
